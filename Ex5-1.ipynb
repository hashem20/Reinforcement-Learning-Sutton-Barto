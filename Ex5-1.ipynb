{
 "cells": [
  {
   "cell_type": "code",
   "execution_count": 1,
   "metadata": {},
   "outputs": [],
   "source": [
    "import numpy as np\n",
    "import pandas as pd"
   ]
  },
  {
   "cell_type": "code",
   "execution_count": 44,
   "metadata": {},
   "outputs": [],
   "source": [
    "current_sum = np.zeros(200, dtype = int)\n",
    "dealer_showing_card = np.zeros(200, dtype = int)\n",
    "usable_ace = np.zeros(200, dtype = int)"
   ]
  },
  {
   "cell_type": "code",
   "execution_count": 45,
   "metadata": {},
   "outputs": [],
   "source": [
    "for i in range(100):\n",
    "    current_sum[i] = i//10 + 12\n",
    "    current_sum[i+100] = i//10 + 12\n",
    "    \n",
    "    dealer_showing_card[i] = i%10 + 1\n",
    "    dealer_showing_card[i+100] = i%10 + 1\n",
    "    \n",
    "    usable_ace[i] = 0\n",
    "    usable_ace[i+100] = 1"
   ]
  },
  {
   "cell_type": "code",
   "execution_count": 58,
   "metadata": {},
   "outputs": [],
   "source": [
    "decisions = ['hit', 'stick']"
   ]
  },
  {
   "cell_type": "code",
   "execution_count": null,
   "metadata": {},
   "outputs": [],
   "source": [
    "def update(state, action, dealer_hidden):\n",
    "    if action = 'hit':\n",
    "        dealer_hidden2 = np.random.randint(1,11)\n",
    "        \n",
    "    return s_prime, reward, dealer_hidden2"
   ]
  },
  {
   "cell_type": "code",
   "execution_count": 59,
   "metadata": {},
   "outputs": [
    {
     "data": {
      "text/plain": [
       "'stick'"
      ]
     },
     "execution_count": 59,
     "metadata": {},
     "output_type": "execute_result"
    }
   ],
   "source": [
    "while True:\n",
    "    S = list()\n",
    "    A = list()\n",
    "    R = list()\n",
    "    \n",
    "    dealer_cards = list()\n",
    "    my_cards = list()\n",
    "    \n",
    "    state = np.random.randint(0,200)\n",
    "    S.append(state)\n",
    "    \n",
    "    dealer_cards.append(np.random.randint(1,11))\n",
    "    dealer_cards.append(np.random.randint(1,11))\n",
    "\n",
    "    my_cards.append(np.random.randint(1,11))\n",
    "    my_cards.append(np.random.randint(1,11))\n",
    "    \n",
    "    dealer_showing_card = dealer_cards[0]\n",
    "    my_sum = sum(my_cards)\n",
    "    \n",
    "    if player_sum == 20 | player_sum == 21:\n",
    "        action = decisions[0]\n",
    "    else:\n",
    "        action = decisions[1]\n",
    "    \n",
    "    A.append(action)\n",
    "    \n",
    "    state_prime, reward = update(state, action)\n",
    "\n",
    "    \n",
    "    \n",
    "    "
   ]
  },
  {
   "cell_type": "code",
   "execution_count": null,
   "metadata": {},
   "outputs": [],
   "source": []
  }
 ],
 "metadata": {
  "kernelspec": {
   "display_name": "Python 3",
   "language": "python",
   "name": "python3"
  },
  "language_info": {
   "codemirror_mode": {
    "name": "ipython",
    "version": 3
   },
   "file_extension": ".py",
   "mimetype": "text/x-python",
   "name": "python",
   "nbconvert_exporter": "python",
   "pygments_lexer": "ipython3",
   "version": "3.7.1"
  }
 },
 "nbformat": 4,
 "nbformat_minor": 4
}
