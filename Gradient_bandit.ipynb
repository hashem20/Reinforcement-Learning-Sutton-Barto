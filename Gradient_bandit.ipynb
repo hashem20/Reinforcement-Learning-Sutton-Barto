{
 "cells": [
  {
   "cell_type": "code",
   "execution_count": 1,
   "metadata": {},
   "outputs": [],
   "source": [
    "import numpy as np\n",
    "import random\n",
    "import matplotlib.pyplot as plt"
   ]
  },
  {
   "cell_type": "code",
   "execution_count": 244,
   "metadata": {},
   "outputs": [],
   "source": [
    "runs = 1000\n",
    "steps = 1000\n",
    "bandits = 10\n",
    "Alpha = [.1, .4]\n",
    "Base = [0, 1]"
   ]
  },
  {
   "cell_type": "code",
   "execution_count": 245,
   "metadata": {},
   "outputs": [],
   "source": [
    "q1 = np.random.normal(4,1,bandits) # true values\n",
    "q2 = np.random.normal(0,1,bandits)\n",
    "results = np.zeros([4,runs,steps-1])\n",
    "optimal = np.zeros([4,runs,steps-1])"
   ]
  },
  {
   "cell_type": "code",
   "execution_count": 246,
   "metadata": {},
   "outputs": [],
   "source": [
    "def softmax(a, i):\n",
    "    return np.exp(a[i])/np.sum(np.exp(a))\n",
    "# def softmax (a, i):\n",
    "#     b = 0\n",
    "#     for j in range(len(a)):\n",
    "#         b = b + np.exp(a[j])\n",
    "#     return np.exp(a[i])/b"
   ]
  },
  {
   "cell_type": "code",
   "execution_count": 247,
   "metadata": {},
   "outputs": [],
   "source": [
    "for l, alpha in enumerate(Alpha):\n",
    "    for m, base in enumerate(Base):\n",
    "        if base == 0:\n",
    "            q = q2\n",
    "        else:\n",
    "            q = q1\n",
    "            \n",
    "        for k in range(runs):\n",
    "            R = np.zeros(steps-1) # actual rewards\n",
    "            gained_reward = np.zeros(steps-1) # gained reward in each step\n",
    "            A = np.zeros(steps-1) # selected actions\n",
    "            opt = np.zeros(steps-1) # percentage of optimal choice\n",
    "            Q = np.zeros(bandits) # value\n",
    "            H = np.zeros([steps,bandits]) # preferences\n",
    "#             H[0,] = np.random.rand(bandits,)\n",
    "            p = np.zeros([steps-1,bandits])\n",
    "            counts = np.zeros(bandits) # counts of numbers each bandit was selected\n",
    "            for j in range(steps-1):\n",
    "                p[j,] = [softmax(H[j,], i) for i in range(bandits)]\n",
    "#                 A[j] = np.argmax(p[j,])\n",
    "                index = np.where(p[j,] == np.amax(p[j,]))\n",
    "                A[j] = random.choice(index[0])\n",
    "                idx = A[j].astype(int)\n",
    "                R[j] = np.random.normal(q[idx],1)\n",
    "                R_mean = np.mean(R[0:j+1])\n",
    "                gained_reward[j] = R[j]\n",
    "                counts[idx] = counts[idx] + 1  \n",
    "                for i in range(bandits):\n",
    "                    if i == idx:\n",
    "                        H[j+1,i] = H[j,i] + alpha * (R[j] - base * R_mean) * (1 - p[j, i])\n",
    "                    else:\n",
    "                        H[j+1,i] = H[j,i] - alpha * (R[j] - base * R_mean) * p[j, i]\n",
    "                if idx == np.argmax(q): \n",
    "                    opt[j] = 100\n",
    "            n = 2*l+m\n",
    "            results[n,k,] = np.cumsum(gained_reward)/np.arange(1,steps)\n",
    "            optimal[n,k,] = np.cumsum(opt)/np.arange(1,steps)"
   ]
  },
  {
   "cell_type": "code",
   "execution_count": 248,
   "metadata": {},
   "outputs": [
    {
     "data": {
      "text/plain": [
       "<matplotlib.legend.Legend at 0x11c7b0eb8>"
      ]
     },
     "execution_count": 248,
     "metadata": {},
     "output_type": "execute_result"
    },
    {
     "data": {
      "image/png": "[encoded data removed]",
      "text/plain": [
       "<Figure size 432x288 with 1 Axes>"
      ]
     },
     "metadata": {
      "needs_background": "light"
     },
     "output_type": "display_data"
    }
   ],
   "source": [
    "plt.plot(range(steps-1), np.mean(results[0],0), label = 'alpha = .1, no base')\n",
    "plt.plot(range(steps-1), np.mean(results[1],0), label = 'alpha = .1')\n",
    "plt.plot(range(steps-1), np.mean(results[2],0), label = 'alpha = .4, no base')\n",
    "plt.plot(range(steps-1), np.mean(results[3],0), label = 'alpha = .4')\n",
    "plt.legend()"
   ]
  },
  {
   "cell_type": "code",
   "execution_count": 249,
   "metadata": {},
   "outputs": [
    {
     "data": {
      "text/plain": [
       "<matplotlib.legend.Legend at 0x11e74b978>"
      ]
     },
     "execution_count": 249,
     "metadata": {},
     "output_type": "execute_result"
    },
    {
     "data": {
      "image/png": "[encoded data removed]",
      "text/plain": [
       "<Figure size 432x288 with 1 Axes>"
      ]
     },
     "metadata": {
      "needs_background": "light"
     },
     "output_type": "display_data"
    }
   ],
   "source": [
    "plt.plot(range(steps-1), np.mean(optimal[0],0), label = 'alpha = .1, no base')\n",
    "plt.plot(range(steps-1), np.mean(optimal[1],0), label = 'alpha = .1')\n",
    "plt.plot(range(steps-1), np.mean(optimal[2],0), label = 'alpha = .4, no base')\n",
    "plt.plot(range(steps-1), np.mean(optimal[3],0), label = 'alpha = .4')\n",
    "plt.legend()"
   ]
  },
  {
   "cell_type": "code",
   "execution_count": null,
   "metadata": {},
   "outputs": [],
   "source": []
  }
 ],
 "metadata": {
  "kernelspec": {
   "display_name": "Python 3",
   "language": "python",
   "name": "python3"
  },
  "language_info": {
   "codemirror_mode": {
    "name": "ipython",
    "version": 3
   },
   "file_extension": ".py",
   "mimetype": "text/x-python",
   "name": "python",
   "nbconvert_exporter": "python",
   "pygments_lexer": "ipython3",
   "version": "3.7.1"
  }
 },
 "nbformat": 4,
 "nbformat_minor": 4
}
