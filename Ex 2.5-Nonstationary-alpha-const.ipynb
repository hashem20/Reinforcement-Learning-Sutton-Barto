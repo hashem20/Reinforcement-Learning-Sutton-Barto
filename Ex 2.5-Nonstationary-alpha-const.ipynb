{
 "cells": [
  {
   "cell_type": "code",
   "execution_count": 4,
   "metadata": {},
   "outputs": [],
   "source": [
    "import numpy as np\n",
    "import random\n",
    "import matplotlib.pyplot as plt"
   ]
  },
  {
   "cell_type": "code",
   "execution_count": 5,
   "metadata": {},
   "outputs": [],
   "source": [
    "runs = 10\n",
    "steps = 10000\n",
    "bandits = 10\n",
    "eps = [.1]\n",
    "alpha = .1"
   ]
  },
  {
   "cell_type": "code",
   "execution_count": 6,
   "metadata": {},
   "outputs": [],
   "source": [
    "q = np.zeros(bandits) # true values\n",
    "qq = np.zeros(bandits)\n",
    "results = np.zeros([3,runs,steps-1])\n",
    "optimal = np.zeros([3,runs,steps-1])"
   ]
  },
  {
   "cell_type": "code",
   "execution_count": 7,
   "metadata": {},
   "outputs": [],
   "source": [
    "qq[0] = np.random.normal(0,1)\n",
    "for i in range(1, bandits):\n",
    "    qq[i] = qq[0]"
   ]
  },
  {
   "cell_type": "code",
   "execution_count": 8,
   "metadata": {},
   "outputs": [],
   "source": [
    "for l, epsilon in enumerate(eps):\n",
    "    for k in range(runs):\n",
    "        R = np.zeros([steps,bandits]) # actual rewards\n",
    "        gained_reward = np.zeros(steps-1) # gained reward in each step\n",
    "        A = np.zeros(steps) # selected actions\n",
    "        opt = np.zeros(steps-1) # percentage of optimal choice\n",
    "        Q = np.zeros(bandits) # value\n",
    "        counts = np.zeros(bandits) # counts of numbers each bandit was selected\n",
    "        q = qq\n",
    "        for j in range(steps-1):\n",
    "            if np.random.rand() < epsilon:\n",
    "                A[j] = np.random.randint(bandits)\n",
    "            else:\n",
    "                index = np.where(Q == np.amax(Q))\n",
    "                A[j] = random.choice(index[0])\n",
    "            idx = A[j].astype(int)\n",
    "            counts[idx] = counts[idx] + 1\n",
    "            R[j,idx] = np.random.normal(q[idx],1)\n",
    "            gained_reward[j] = R[j,idx]\n",
    "            Q[idx] = Q[idx] + alpha * (R[j,idx] - Q[idx])\n",
    "            if idx == np.argmax(q): \n",
    "                opt[j] = 100\n",
    "            for i in range(bandits):\n",
    "                q[i] = q[i] + np.random.normal(0,.01)\n",
    "        results[l,k,] = np.cumsum(gained_reward)/np.arange(1,steps)\n",
    "        optimal[l,k,] = np.cumsum(opt)/np.arange(1,steps)"
   ]
  },
  {
   "cell_type": "code",
   "execution_count": 9,
   "metadata": {},
   "outputs": [
    {
     "data": {
      "text/plain": [
       "<matplotlib.legend.Legend at 0x1197c43c8>"
      ]
     },
     "execution_count": 9,
     "metadata": {},
     "output_type": "execute_result"
    },
    {
     "data": {
      "image/png": "[encoded data removed]",
      "text/plain": [
       "<Figure size 432x288 with 1 Axes>"
      ]
     },
     "metadata": {
      "needs_background": "light"
     },
     "output_type": "display_data"
    }
   ],
   "source": [
    "plt.plot(range(steps-1), np.mean(results[0],0), label = 'e = 0')\n",
    "plt.plot(range(steps-1), np.mean(results[1],0), label = 'e = 0.01')\n",
    "plt.plot(range(steps-1), np.mean(results[2],0), label = 'e = 0.1')\n",
    "plt.legend()"
   ]
  },
  {
   "cell_type": "code",
   "execution_count": 10,
   "metadata": {},
   "outputs": [
    {
     "data": {
      "text/plain": [
       "<matplotlib.legend.Legend at 0x119a9be80>"
      ]
     },
     "execution_count": 10,
     "metadata": {},
     "output_type": "execute_result"
    },
    {
     "data": {
      "image/png": "[encoded data removed]",
      "text/plain": [
       "<Figure size 432x288 with 1 Axes>"
      ]
     },
     "metadata": {
      "needs_background": "light"
     },
     "output_type": "display_data"
    }
   ],
   "source": [
    "plt.plot(range(steps-1), np.mean(optimal[0],0), label = 'e = 0')\n",
    "plt.plot(range(steps-1), np.mean(optimal[1],0), label = 'e = 0.01')\n",
    "plt.plot(range(steps-1), np.mean(optimal[2],0), label = 'e = 0.1')\n",
    "plt.legend()"
   ]
  },
  {
   "cell_type": "code",
   "execution_count": null,
   "metadata": {},
   "outputs": [],
   "source": []
  }
 ],
 "metadata": {
  "kernelspec": {
   "display_name": "Python 3",
   "language": "python",
   "name": "python3"
  },
  "language_info": {
   "codemirror_mode": {
    "name": "ipython",
    "version": 3
   },
   "file_extension": ".py",
   "mimetype": "text/x-python",
   "name": "python",
   "nbconvert_exporter": "python",
   "pygments_lexer": "ipython3",
   "version": "3.7.1"
  }
 },
 "nbformat": 4,
 "nbformat_minor": 4
}
