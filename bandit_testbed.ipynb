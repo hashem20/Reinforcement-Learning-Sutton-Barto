{
 "cells": [
  {
   "cell_type": "code",
   "execution_count": 1,
   "metadata": {},
   "outputs": [],
   "source": [
    "import numpy as np\n",
    "import random\n",
    "import matplotlib.pyplot as plt"
   ]
  },
  {
   "cell_type": "code",
   "execution_count": 15,
   "metadata": {},
   "outputs": [],
   "source": [
    "def func():\n",
    "    runs = 10\n",
    "    steps = 100\n",
    "    bandits = 10\n",
    "    eps = [0, .01, .1]\n",
    "    q = np.zeros(bandits) # true values\n",
    "    results = np.zeros([3,runs,steps-1])\n",
    "    optimal = np.zeros([3,runs,steps-1])\n",
    "    for i in range(bandits):\n",
    "        q[i] = np.random.normal(0,1)\n",
    "    for l, epsilon in enumerate(eps):\n",
    "        for k in range(runs):\n",
    "            R = np.zeros([steps,bandits]) # actual rewards\n",
    "            gained_reward = np.zeros(steps-1) # gained reward in each step\n",
    "            A = np.zeros(steps) # selected actions\n",
    "            opt = np.zeros(steps-1) # percentage of optimal choice\n",
    "            Q = np.zeros(bandits) # value\n",
    "            counts = np.zeros(bandits) # counts of numbers each bandit was selected\n",
    "            for j in range(steps-1):\n",
    "                if np.random.rand() < epsilon:\n",
    "                    A[j] = np.random.randint(bandits)\n",
    "                else:\n",
    "    #                 A[j] = np.argmax(Q)\n",
    "                    index = np.where(Q == np.amax(Q))\n",
    "                    A[j] = random.choice(index[0])\n",
    "                idx = A[j].astype(int)\n",
    "                counts[idx] = counts[idx] + 1\n",
    "                R[j,idx] = np.random.normal(q[idx],1)\n",
    "                gained_reward[j] = R[j,idx]\n",
    "    #             Q[idx] = (counts[idx] * Q[idx] + R[j,idx])/(counts[idx]+1)\n",
    "                Q[idx] = Q[idx] + (1/counts[idx]) * (R[j,idx] - Q[idx])\n",
    "                if idx == np.argmax(q): #np.where(q == np.amax(q))[0][0]:\n",
    "                    opt[j] = 100\n",
    "            results[l,k,] = np.cumsum(gained_reward)/np.arange(1,steps)\n",
    "            optimal[l,k,] = np.cumsum(opt)/np.arange(1,steps)"
   ]
  },
  {
   "cell_type": "code",
   "execution_count": 6,
   "metadata": {},
   "outputs": [],
   "source": [
    "%load_ext line_profiler\n",
    "%lprun -f func func()"
   ]
  },
  {
   "cell_type": "code",
   "execution_count": 164,
   "metadata": {},
   "outputs": [
    {
     "name": "stdout",
     "output_type": "stream",
     "text": [
      "ERROR: Could not find file <ipython-input-15-486639d4f612>\n",
      "NOTE: %mprun can only be used on functions defined in physical files, and not in the IPython environment.\n",
      "\n"
     ]
    }
   ],
   "source": [
    "%load_ext memory_profiler\n",
    "%mprun -f func func()"
   ]
  },
  {
   "cell_type": "code",
   "execution_count": 10,
   "metadata": {},
   "outputs": [],
   "source": [
    "%load_ext cython"
   ]
  },
  {
   "cell_type": "code",
   "execution_count": 62,
   "metadata": {},
   "outputs": [
    {
     "ename": "NameError",
     "evalue": "name 'l' is not defined",
     "output_type": "error",
     "traceback": [
      "\u001b[0;31m---------------------------------------------------------------------------\u001b[0m",
      "\u001b[0;31mNameError\u001b[0m                                 Traceback (most recent call last)",
      "\u001b[0;32m<ipython-input-62-8186f65a6b09>\u001b[0m in \u001b[0;36m<module>\u001b[0;34m\u001b[0m\n\u001b[0;32m----> 1\u001b[0;31m \u001b[0;32mdel\u001b[0m \u001b[0mruns\u001b[0m\u001b[0;34m,\u001b[0m \u001b[0msteps\u001b[0m\u001b[0;34m,\u001b[0m \u001b[0mbandits\u001b[0m\u001b[0;34m,\u001b[0m \u001b[0ml\u001b[0m\u001b[0;34m,\u001b[0m \u001b[0mi\u001b[0m\u001b[0;34m,\u001b[0m \u001b[0mk\u001b[0m\u001b[0;34m,\u001b[0m \u001b[0mA\u001b[0m\u001b[0;34m,\u001b[0m \u001b[0mindex\u001b[0m\u001b[0;34m,\u001b[0m \u001b[0midx\u001b[0m\u001b[0;34m,\u001b[0m \u001b[0mq\u001b[0m\u001b[0;34m,\u001b[0m \u001b[0mepsilon\u001b[0m\u001b[0;34m,\u001b[0m \u001b[0meps\u001b[0m\u001b[0;34m,\u001b[0m \u001b[0mR\u001b[0m\u001b[0;34m,\u001b[0m \u001b[0mgained_reward\u001b[0m\u001b[0;34m,\u001b[0m \u001b[0mopt\u001b[0m\u001b[0;34m,\u001b[0m \u001b[0mQ\u001b[0m\u001b[0;34m\u001b[0m\u001b[0;34m\u001b[0m\u001b[0m\n\u001b[0m",
      "\u001b[0;31mNameError\u001b[0m: name 'l' is not defined"
     ]
    }
   ],
   "source": [
    "del runs, steps, bandits, l, i, k, A, index, idx, q, epsilon, eps, R, gained_reward, opt, Q"
   ]
  },
  {
   "cell_type": "code",
   "execution_count": 161,
   "metadata": {},
   "outputs": [
    {
     "name": "stderr",
     "output_type": "stream",
     "text": [
      "\n",
      "Error compiling Cython file:\n",
      "------------------------------------------------------------\n",
      "...\n",
      "    cdef float opt[99]\n",
      "    cdef float Q[10] \n",
      "    cdef float R[100][10]\n",
      "#     cdef float results[3][10][99]\n",
      "    cdef float optimal[3][10][99]\n",
      "    global results[3][10][99]\n",
      "                 ^\n",
      "------------------------------------------------------------\n",
      "\n",
      "/Users/hashem/.ipython/cython/_cython_magic_699e729e78527ca99d115a06ca2b6cfd.pyx:37:18: Syntax error in simple statement list\n"
     ]
    }
   ],
   "source": [
    "%%cython\n",
    "import numpy as np\n",
    "import random\n",
    "# import cython\n",
    "\n",
    "cpdef funcx():\n",
    "#     cython.declare(l=cython.int,\n",
    "#                    i=cython.int,\n",
    "#                    k=cython.int,\n",
    "#                    epsilon=cython.double,\n",
    "#                    runs=cython.int,\n",
    "#                    steps=cython.int,\n",
    "#                    bandits=cython.int,\n",
    "#                    q=cython.double,\n",
    "#                    eps=cython.double,\n",
    "#                    results=cython.double,\n",
    "#                    optimal=cython.double,\n",
    "#                    R=cython.double,\n",
    "#                    gained_rewards=cython.double,\n",
    "#                    A=cython.int,\n",
    "#                    opt=cython.double,\n",
    "#                    Q=cython.double,\n",
    "#                    index=cython.int,\n",
    "#                    idx=cython.int)\n",
    "    \n",
    "    cdef int runs, steps, bandits, l, i, k, idx\n",
    "    cdef int index\n",
    "    cdef int A[100]\n",
    "    cdef float epsilon\n",
    "    cdef float q[10]\n",
    "    cdef float eps[3]\n",
    "    cdef float gained_reward[99]\n",
    "    cdef float opt[99]\n",
    "    cdef float Q[10] \n",
    "    cdef float R[100][10]\n",
    "    cdef float results[3][10][99]\n",
    "    cdef float optimal[3][10][99]\n",
    "\n",
    "    runs = 10\n",
    "    steps = 100\n",
    "    bandits = 10\n",
    "    eps = [0, .01, .1]\n",
    "    q = np.zeros(bandits) \n",
    "    results = np.zeros([3,runs,steps-1])\n",
    "    optimal = np.zeros([3,runs,steps-1])\n",
    "    for i in range(bandits):\n",
    "        q[i] = np.random.normal(0,1)\n",
    "    for l, epsilon in enumerate(eps):\n",
    "        for k in range(runs):\n",
    "            R = np.zeros([steps,bandits]) \n",
    "            gained_reward = np.zeros(steps-1) \n",
    "            A = np.zeros(steps) \n",
    "            opt = np.zeros(steps-1) \n",
    "            Q = np.zeros(bandits) \n",
    "            counts = np.zeros(bandits) \n",
    "            for j in range(steps-1):\n",
    "                if np.random.rand() < epsilon:\n",
    "                    A[j] = np.random.randint(bandits)\n",
    "                else:\n",
    "                    index = np.argmax(Q)\n",
    "                    A[j] = index\n",
    "                idx = A[j]\n",
    "                counts[idx] = counts[idx] + 1\n",
    "                R[j][idx] = np.random.normal(q[idx],1)\n",
    "                gained_reward[j] = R[j][idx]\n",
    "                Q[idx] = Q[idx] + (1/counts[idx]) * (R[j][idx] - Q[idx])\n",
    "                if idx == np.argmax(q): \n",
    "                    opt[j] = 100\n",
    "            results[l][k] = np.cumsum(gained_reward)/np.arange(1,steps)\n",
    "            optimal[l][k] = np.cumsum(opt)/np.arange(1,steps)\n",
    "#     return runs, steps, bandits, l, i, k, A, index, idx, q, epsilon, eps, R, gained_reward, opt, Q\n",
    "    return results\n",
    "funcx()"
   ]
  },
  {
   "cell_type": "code",
   "execution_count": 162,
   "metadata": {},
   "outputs": [],
   "source": [
    "from numba import jit\n",
    "funcj = jit(func)\n",
    "%timeit func()\n",
    "%timeit funcj()"
   ]
  },
  {
   "cell_type": "code",
   "execution_count": 8,
   "metadata": {},
   "outputs": [
    {
     "data": {
      "text/plain": [
       "<matplotlib.legend.Legend at 0x11c2ddeb8>"
      ]
     },
     "execution_count": 8,
     "metadata": {},
     "output_type": "execute_result"
    },
    {
     "data": {
      "image/png": "[encoded data removed]",
      "text/plain": [
       "<Figure size 432x288 with 1 Axes>"
      ]
     },
     "metadata": {
      "needs_background": "light"
     },
     "output_type": "display_data"
    }
   ],
   "source": [
    "plt.plot(range(steps-1), np.mean(results[0],0), label = 'e = 0')\n",
    "plt.plot(range(steps-1), np.mean(results[1],0), label = 'e = 0.01')\n",
    "plt.plot(range(steps-1), np.mean(results[2],0), label = 'e = 0.1')\n",
    "plt.legend()"
   ]
  },
  {
   "cell_type": "code",
   "execution_count": 30,
   "metadata": {},
   "outputs": [
    {
     "data": {
      "text/plain": [
       "<matplotlib.legend.Legend at 0x1519e1da0>"
      ]
     },
     "execution_count": 30,
     "metadata": {},
     "output_type": "execute_result"
    },
    {
     "data": {
      "image/png": "[encoded data removed]",
      "text/plain": [
       "<Figure size 432x288 with 1 Axes>"
      ]
     },
     "metadata": {
      "needs_background": "light"
     },
     "output_type": "display_data"
    }
   ],
   "source": [
    "plt.plot(range(steps-1), np.mean(optimal[0],0), label = 'e = 0')\n",
    "plt.plot(range(steps-1), np.mean(optimal[1],0), label = 'e = 0.01')\n",
    "plt.plot(range(steps-1), np.mean(optimal[2],0), label = 'e = 0.1')\n",
    "plt.legend()"
   ]
  },
  {
   "cell_type": "code",
   "execution_count": null,
   "metadata": {},
   "outputs": [],
   "source": []
  }
 ],
 "metadata": {
  "kernelspec": {
   "display_name": "Python 3",
   "language": "python",
   "name": "python3"
  },
  "language_info": {
   "codemirror_mode": {
    "name": "ipython",
    "version": 3
   },
   "file_extension": ".py",
   "mimetype": "text/x-python",
   "name": "python",
   "nbconvert_exporter": "python",
   "pygments_lexer": "ipython3",
   "version": "3.7.1"
  }
 },
 "nbformat": 4,
 "nbformat_minor": 4
}
