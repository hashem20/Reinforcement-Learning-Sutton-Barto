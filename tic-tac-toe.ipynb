{
 "cells": [
  {
   "cell_type": "code",
   "execution_count": 444,
   "metadata": {},
   "outputs": [],
   "source": [
    "import numpy as np\n",
    "import random"
   ]
  },
  {
   "cell_type": "code",
   "execution_count": 548,
   "metadata": {},
   "outputs": [],
   "source": [
    "def code(array):\n",
    "    h = \"\"\n",
    "    for i in array:\n",
    "        for j in i:\n",
    "            h = h + str(int(j))\n",
    "    return h"
   ]
  },
  {
   "cell_type": "code",
   "execution_count": 549,
   "metadata": {},
   "outputs": [],
   "source": [
    "def win(string):\n",
    "    a = 0\n",
    "    a = string[0:3] == '111'\n",
    "    a += string[3:6] == '111'\n",
    "    a += string[6:9] == '111'\n",
    "    \n",
    "    a += string[0]+string[3]+string[6] == '111'\n",
    "    a += string[1]+string[4]+string[7] == '111'\n",
    "    a += string[2]+string[5]+string[8] == '111'\n",
    "    \n",
    "    a += string[0]+string[4]+string[8] == '111'\n",
    "    a += string[2]+string[4]+string[6] == '111'\n",
    "    \n",
    "    if not(a == 0):\n",
    "        return True"
   ]
  },
  {
   "cell_type": "code",
   "execution_count": 550,
   "metadata": {},
   "outputs": [],
   "source": [
    "def lose(string):\n",
    "    a = 0\n",
    "    a = string[0:3] == '222'\n",
    "    a += string[3:6] == '222'\n",
    "    a += string[6:9] == '222'\n",
    "    \n",
    "    a += string[0]+string[3]+string[6] == '222'\n",
    "    a += string[1]+string[4]+string[7] == '222'\n",
    "    a += string[2]+string[5]+string[8] == '222'\n",
    "    \n",
    "    a += string[0]+string[4]+string[8] == '222'\n",
    "    a += string[2]+string[4]+string[6] == '222'\n",
    "    \n",
    "    if not(a == 0):\n",
    "        return True"
   ]
  },
  {
   "cell_type": "code",
   "execution_count": 547,
   "metadata": {},
   "outputs": [],
   "source": [
    "states = ['000000000']\n",
    "seq = ['000000000']\n",
    "seq_val = [0.0]\n",
    "step = 0\n",
    "values = [0.0]\n",
    "state = np.zeros([3,3])\n",
    "value = 0.0\n",
    "action = [0,0]\n",
    "possible_actions = []\n",
    "possible_states = []\n",
    "alpha = .1"
   ]
  },
  {
   "cell_type": "code",
   "execution_count": 565,
   "metadata": {},
   "outputs": [],
   "source": [
    "for i in np.arange(np.size(state,1)):\n",
    "    for j in np.arange(np.size(state,1)):\n",
    "        if state[i,j] == 0:\n",
    "            possible_actions.append([i,j])"
   ]
  },
  {
   "cell_type": "code",
   "execution_count": 566,
   "metadata": {},
   "outputs": [],
   "source": [
    "for i in possible_actions:\n",
    "    a = i[0].item()\n",
    "    b = i[1].item()\n",
    "    s = np.array(list(state))\n",
    "    s[a,b] = 1\n",
    "    possible_states.append(s)"
   ]
  },
  {
   "cell_type": "code",
   "execution_count": 567,
   "metadata": {},
   "outputs": [],
   "source": [
    "idx = []\n",
    "val = np.zeros(len(possible_states))\n",
    "for k,i in enumerate(possible_states):\n",
    "    if code(i) in states:\n",
    "        index = states.index(code(i))\n",
    "        idx.append(index)\n",
    "        val[k] = (values[index])"
   ]
  },
  {
   "cell_type": "code",
   "execution_count": 568,
   "metadata": {},
   "outputs": [
    {
     "name": "stderr",
     "output_type": "stream",
     "text": [
      "/Users/hashem/anaconda3/lib/python3.7/site-packages/ipykernel_launcher.py:12: FutureWarning: elementwise comparison failed; returning scalar instead, but in the future will perform elementwise comparison\n",
      "  if sys.path[0] == '':\n"
     ]
    }
   ],
   "source": [
    "action = possible_actions[np.argmax(val)]\n",
    "value = np.max(val)\n",
    "a = action[0].item()\n",
    "b = action[1].item()\n",
    "state[a,b] = 1\n",
    "if win(code(state)):\n",
    "    value = 10\n",
    "    values[index] = values[index] + alpha * (value - values[index])\n",
    "seq.append(code(state))\n",
    "seq_val.append(value)\n",
    "step += 1\n",
    "if not(state in states):\n",
    "    states.append(code(state))\n",
    "    values.append(value)"
   ]
  },
  {
   "cell_type": "code",
   "execution_count": 569,
   "metadata": {},
   "outputs": [],
   "source": [
    "#opponent random\n",
    "possible_actions = []\n",
    "for i in np.arange(np.size(state,1)):\n",
    "    for j in np.arange(np.size(state,1)):\n",
    "        if state[i,j] == 0:\n",
    "            possible_actions.append([i,j])\n",
    "            \n",
    "opponent_action = random.choice(possible_actions)\n",
    "a = opponent_action[0].item()\n",
    "b = opponent_action[1].item()\n",
    "state[a,b] = 2\n",
    "\n",
    "if lose(code(state)):\n",
    "    value = -10\n",
    "elif code(state) in states:\n",
    "    idx = states.index(code(state))\n",
    "    value = values[idx]\n",
    "    \n",
    "if not(code(state) in states):\n",
    "    states.append(code(state))\n",
    "    values.append(value)\n",
    "else:\n",
    "    values[index] = values[index] + alpha * (value - values[index])\n",
    "    \n",
    "if lose(code(state)):\n",
    "    print (\"Game Over\")\n",
    "    \n",
    "    "
   ]
  },
  {
   "cell_type": "code",
   "execution_count": 570,
   "metadata": {},
   "outputs": [
    {
     "data": {
      "text/plain": [
       "array([[1., 1., 1.],\n",
       "       [0., 0., 2.],\n",
       "       [2., 0., 2.]])"
      ]
     },
     "execution_count": 570,
     "metadata": {},
     "output_type": "execute_result"
    }
   ],
   "source": [
    "state"
   ]
  },
  {
   "cell_type": "code",
   "execution_count": 571,
   "metadata": {},
   "outputs": [
    {
     "data": {
      "text/plain": [
       "[0.0, 0.0, 0.0, 1.0, 0.0, 10, 10]"
      ]
     },
     "execution_count": 571,
     "metadata": {},
     "output_type": "execute_result"
    }
   ],
   "source": [
    "values"
   ]
  },
  {
   "cell_type": "code",
   "execution_count": 573,
   "metadata": {},
   "outputs": [
    {
     "data": {
      "text/plain": [
       "False"
      ]
     },
     "execution_count": 573,
     "metadata": {},
     "output_type": "execute_result"
    }
   ],
   "source": [
    "3 in state\n"
   ]
  },
  {
   "cell_type": "code",
   "execution_count": null,
   "metadata": {},
   "outputs": [],
   "source": []
  }
 ],
 "metadata": {
  "kernelspec": {
   "display_name": "Python 3",
   "language": "python",
   "name": "python3"
  },
  "language_info": {
   "codemirror_mode": {
    "name": "ipython",
    "version": 3
   },
   "file_extension": ".py",
   "mimetype": "text/x-python",
   "name": "python",
   "nbconvert_exporter": "python",
   "pygments_lexer": "ipython3",
   "version": "3.7.1"
  }
 },
 "nbformat": 4,
 "nbformat_minor": 4
}
