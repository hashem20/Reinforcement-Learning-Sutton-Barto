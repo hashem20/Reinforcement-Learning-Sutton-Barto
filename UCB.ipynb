{
 "cells": [
  {
   "cell_type": "code",
   "execution_count": 4,
   "metadata": {},
   "outputs": [],
   "source": [
    "import numpy as np\n",
    "import random\n",
    "import matplotlib.pyplot as plt"
   ]
  },
  {
   "cell_type": "code",
   "execution_count": 34,
   "metadata": {},
   "outputs": [],
   "source": [
    "runs = 10000\n",
    "steps = 1000\n",
    "bandits = 10\n",
    "epsilon = .1\n",
    "c = 2"
   ]
  },
  {
   "cell_type": "code",
   "execution_count": 35,
   "metadata": {},
   "outputs": [],
   "source": [
    "q = np.zeros(bandits) # true values\n",
    "results = np.zeros([2,runs,steps-1])\n",
    "optimal = np.zeros([2,runs,steps-1])"
   ]
  },
  {
   "cell_type": "code",
   "execution_count": 36,
   "metadata": {},
   "outputs": [],
   "source": [
    "for i in range(bandits):\n",
    "    q[i] = np.random.normal(0,1)"
   ]
  },
  {
   "cell_type": "code",
   "execution_count": 37,
   "metadata": {},
   "outputs": [],
   "source": [
    "for l in range(2):\n",
    "    for k in range(runs):\n",
    "        R = np.zeros([steps,bandits]) # actual rewards\n",
    "        gained_reward = np.zeros(steps-1) # gained reward in each step\n",
    "        A = np.zeros(steps) # selected actions\n",
    "        opt = np.zeros(steps-1) # percentage of optimal choice\n",
    "        Q = np.zeros(bandits) # value\n",
    "        UCB = np.zeros(bandits)\n",
    "        counts = np.zeros(bandits) # counts of numbers each bandit was selected\n",
    "        for j in range(steps-1):\n",
    "            if np.random.rand() < epsilon:\n",
    "                if l==0:\n",
    "                    for m in range(bandits):\n",
    "                        if counts[m] == 0:\n",
    "                            UCB[m] = 100\n",
    "                        else:\n",
    "                            UCB[m] = Q[m] + c*np.log(j+1)/counts[m]\n",
    "                    A[j] = np.argmax(UCB)\n",
    "                else:\n",
    "                    A[j] = np.random.randint(bandits)\n",
    "            else:\n",
    "                index = np.where(Q == np.amax(Q))\n",
    "                A[j] = random.choice(index[0])\n",
    "            idx = A[j].astype(int)\n",
    "            counts[idx] = counts[idx] + 1\n",
    "            R[j,idx] = np.random.normal(q[idx],1)\n",
    "            gained_reward[j] = R[j,idx]\n",
    "            Q[idx] = Q[idx] + (1/counts[idx]) * (R[j,idx] - Q[idx])\n",
    "            if idx == np.argmax(q): #np.where(q == np.amax(q))[0][0]:\n",
    "                opt[j] = 100\n",
    "        results[l,k,] = np.cumsum(gained_reward)/np.arange(1,steps)\n",
    "        optimal[l,k,] = np.cumsum(opt)/np.arange(1,steps)"
   ]
  },
  {
   "cell_type": "code",
   "execution_count": 38,
   "metadata": {},
   "outputs": [
    {
     "data": {
      "text/plain": [
       "<matplotlib.legend.Legend at 0x11b54e9b0>"
      ]
     },
     "execution_count": 38,
     "metadata": {},
     "output_type": "execute_result"
    },
    {
     "data": {
      "image/png": "[encoded data removed]",
      "text/plain": [
       "<Figure size 432x288 with 1 Axes>"
      ]
     },
     "metadata": {
      "needs_background": "light"
     },
     "output_type": "display_data"
    }
   ],
   "source": [
    "plt.plot(range(steps-1), np.mean(results[0],0), label = 'UCB, c = 2')\n",
    "plt.plot(range(steps-1), np.mean(results[1],0), label = 'e = 0.1')\n",
    "plt.legend()"
   ]
  },
  {
   "cell_type": "code",
   "execution_count": 39,
   "metadata": {},
   "outputs": [
    {
     "data": {
      "text/plain": [
       "<matplotlib.legend.Legend at 0x12e762160>"
      ]
     },
     "execution_count": 39,
     "metadata": {},
     "output_type": "execute_result"
    },
    {
     "data": {
      "image/png": "[encoded data removed]",
      "text/plain": [
       "<Figure size 432x288 with 1 Axes>"
      ]
     },
     "metadata": {
      "needs_background": "light"
     },
     "output_type": "display_data"
    }
   ],
   "source": [
    "plt.plot(range(steps-1), np.mean(optimal[0],0), label = 'UCB, c = 2')\n",
    "plt.plot(range(steps-1), np.mean(optimal[1],0), label = 'e = 0.1')\n",
    "plt.legend()"
   ]
  },
  {
   "cell_type": "code",
   "execution_count": null,
   "metadata": {},
   "outputs": [],
   "source": []
  }
 ],
 "metadata": {
  "kernelspec": {
   "display_name": "Python 3",
   "language": "python",
   "name": "python3"
  },
  "language_info": {
   "codemirror_mode": {
    "name": "ipython",
    "version": 3
   },
   "file_extension": ".py",
   "mimetype": "text/x-python",
   "name": "python",
   "nbconvert_exporter": "python",
   "pygments_lexer": "ipython3",
   "version": "3.7.1"
  }
 },
 "nbformat": 4,
 "nbformat_minor": 4
}
